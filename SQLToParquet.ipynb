{
    "metadata": {
        "kernelspec": {
            "name": "python3",
            "display_name": "Python 3",
            "language": "python"
        },
        "language_info": {
            "name": "python",
            "version": "3.7.4",
            "mimetype": "text/x-python",
            "codemirror_mode": {
                "name": "ipython",
                "version": 3
            },
            "pygments_lexer": "ipython3",
            "nbconvert_exporter": "python",
            "file_extension": ".py"
        }
    },
    "nbformat_minor": 2,
    "nbformat": 4,
    "cells": [
        {
            "cell_type": "markdown",
            "source": [
                "# Export a SQL Table to parquet format"
            ],
            "metadata": {
                "azdata_cell_guid": "1b7e8f2e-0a36-416f-acb8-b6a5c6a9a4bf"
            }
        },
        {
            "cell_type": "markdown",
            "source": [
                "The longest running part of this is the creation of the pandas dataframe.\n",
                "\n",
                "You may want to partition the parquet file or split the row groups. All of the options are explained and demonstrated [here](https://arrow.apache.org/docs/python/parquet.html)"
            ],
            "metadata": {
                "azdata_cell_guid": "62addeda-c757-4304-b23d-15c9c224d283"
            }
        },
        {
            "cell_type": "markdown",
            "source": [
                "**<u>Import the libraries needed</u>**"
            ],
            "metadata": {
                "azdata_cell_guid": "243f6bdb-f294-41e6-980c-48bbb3a9b891"
            }
        },
        {
            "cell_type": "code",
            "source": [
                "import pyodbc\r\n",
                "import pandas as pd\r\n",
                "import pyarrow as pa\r\n",
                "import pyarrow.parquet as pq"
            ],
            "metadata": {
                "azdata_cell_guid": "6388ebbd-6b92-428a-b3e7-51d348d37475"
            },
            "outputs": [],
            "execution_count": null
        },
        {
            "cell_type": "markdown",
            "source": [
                "**<u>Set up the connection info for your SQL Server</u>**"
            ],
            "metadata": {
                "azdata_cell_guid": "b09b3d97-d6b8-4831-8c97-a34107c2d19d"
            }
        },
        {
            "cell_type": "code",
            "source": [
                "server = '<<SQL Server / IP Address>>' \r\n",
                "database = '<<Database Name>>' \r\n",
                "username = '<<Login Name>>' \r\n",
                "password = '<<Password>>' "
            ],
            "metadata": {
                "azdata_cell_guid": "4a8a4b20-a760-41b1-814a-0db0d2bf1177"
            },
            "outputs": [],
            "execution_count": null
        },
        {
            "cell_type": "markdown",
            "source": [
                "**<u>Connect to the server</u>**"
            ],
            "metadata": {
                "azdata_cell_guid": "249ea989-973a-48a5-88b0-fb4e1e1d0274"
            }
        },
        {
            "cell_type": "code",
            "source": [
                "cnxn = pyodbc.connect('DRIVER={SQL Server};SERVER='+server+';DATABASE='+database+';UID='+username+';PWD='+ password)\r\n",
                "cursor = cnxn.cursor()"
            ],
            "metadata": {
                "azdata_cell_guid": "771f0062-bc2d-4134-b972-501b31a368b6"
            },
            "outputs": [],
            "execution_count": null
        },
        {
            "cell_type": "markdown",
            "source": [
                "**<u>Read the data into a pandas data frame</u>**"
            ],
            "metadata": {
                "azdata_cell_guid": "a6e3c8b7-dc1c-4333-ad21-9c52b2462a52"
            }
        },
        {
            "cell_type": "code",
            "source": [
                "query = \"SELECT * FROM dbo.Trips;\"\r\n",
                "df = pd.read_sql(query, cnxn)"
            ],
            "metadata": {
                "azdata_cell_guid": "dbb27482-3085-4a96-aa70-feda54c8a765",
                "tags": []
            },
            "outputs": [],
            "execution_count": null
        },
        {
            "cell_type": "markdown",
            "source": [
                "**<u>Check you have the right data</u>**"
            ],
            "metadata": {
                "azdata_cell_guid": "e9338101-c313-46e6-aa76-e94dd2e988e9"
            }
        },
        {
            "cell_type": "code",
            "source": [
                "df.head(10)"
            ],
            "metadata": {
                "azdata_cell_guid": "0a6c2476-dbd8-4e71-9561-837896ff8d94"
            },
            "outputs": [],
            "execution_count": null
        },
        {
            "cell_type": "markdown",
            "source": [
                "**<u>Convert DataFrame to Apache Arrow Table</u>**"
            ],
            "metadata": {
                "azdata_cell_guid": "8f895bbd-5490-4147-ad8b-87da59b0072a"
            }
        },
        {
            "cell_type": "code",
            "source": [
                "table = pa.Table.from_pandas(df)"
            ],
            "metadata": {
                "azdata_cell_guid": "df4042ad-0d79-4b35-a41d-87a011fffdf3"
            },
            "outputs": [],
            "execution_count": null
        },
        {
            "cell_type": "markdown",
            "source": [
                "<u>**Write out in parquet format**</u> (You can use any of the compression types snappy, gzip etc)"
            ],
            "metadata": {
                "azdata_cell_guid": "e5c9b7b4-c84e-45f1-88e8-d5e0d0191986"
            }
        },
        {
            "cell_type": "code",
            "source": [
                "pq.write_table(table, 'Trips.parquet', compression='GZIP')"
            ],
            "metadata": {
                "azdata_cell_guid": "93deefbc-0c38-4ac6-90d7-60bf9f0e266f"
            },
            "outputs": [],
            "execution_count": null
        },
        {
            "cell_type": "markdown",
            "source": [
                "**<u>A quick check that we got everything</u>**"
            ],
            "metadata": {
                "azdata_cell_guid": "d21dd25d-e818-430e-84f4-f449728dad82"
            }
        },
        {
            "cell_type": "code",
            "source": [
                "metadata = pq.read_metadata('Trips.parquet')\r\n",
                "metadata\r\n",
                ""
            ],
            "metadata": {
                "azdata_cell_guid": "72ae5f02-8899-4884-9aa4-39f4372ee409"
            },
            "outputs": [],
            "execution_count": null
        }
    ]
}