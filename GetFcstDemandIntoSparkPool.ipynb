{
    "metadata": {
        "kernelspec": {
            "name": "synapse_sparksql",
            "language": "SQL",
            "display_name": "Synapse SQL"
        },
        "language_info": {
            "name": "sql"
        },
        "kernel_info": {
            "name": "synapse_sparksql"
        },
        "save_output": true,
        "synapse_widget": {
            "version": "0.1",
            "state": {}
        }
    },
    "nbformat_minor": 2,
    "nbformat": 4,
    "cells": [
        {
            "cell_type": "code",
            "source": [
                "CREATE DATABASE nyctaxifcst;"
            ],
            "metadata": {
                "collapsed": false,
                "azdata_cell_guid": "42bf50d4-5fde-4099-98a4-c383d091ff66"
            },
            "outputs": [],
            "execution_count": null
        },
        {
            "cell_type": "code",
            "source": [
                "%%pyspark\r\n",
                "spark.sql(\"DROP TABLE IF EXISTS nyctaxifcst.hourlyzonedemand\")"
            ],
            "metadata": {
                "collapsed": true,
                "jupyter": {
                    "source_hidden": false,
                    "outputs_hidden": false
                },
                "nteract": {
                    "transient": {
                        "deleting": false
                    }
                },
                "microsoft": {
                    "language": "python"
                },
                "azdata_cell_guid": "40096907-b7b5-4f53-8d1d-5def5c283c65"
            },
            "outputs": [],
            "execution_count": null
        },
        {
            "cell_type": "code",
            "source": [
                "%%pyspark\r\n",
                "spark.sql(\"CREATE TABLE IF NOT EXISTS nyctaxifcst.hourlyzonedemand USING Parquet LOCATION '/user/zonedemand'\")"
            ],
            "metadata": {
                "jupyter": {
                    "source_hidden": false,
                    "outputs_hidden": false
                },
                "nteract": {
                    "transient": {
                        "deleting": false
                    }
                },
                "microsoft": {
                    "language": "python"
                },
                "collapsed": true,
                "azdata_cell_guid": "3d679953-d402-41f2-bc03-40aa3dab849d"
            },
            "outputs": [],
            "execution_count": null
        },
        {
            "cell_type": "code",
            "source": [
                "Select * from nyctaxifcst.hourlyzonedemand LIMIT 10"
            ],
            "metadata": {
                "jupyter": {
                    "source_hidden": false,
                    "outputs_hidden": false
                },
                "nteract": {
                    "transient": {
                        "deleting": false
                    }
                },
                "collapsed": false,
                "azdata_cell_guid": "8ca250fe-39d2-44bc-9eb6-17d554b134e4"
            },
            "outputs": [],
            "execution_count": null
        },
        {
            "cell_type": "code",
            "source": [
                "%%pyspark\r\n",
                "spark.sql(\"DROP TABLE IF EXISTS nyctaxifcst.hourlyroutedemand\")"
            ],
            "metadata": {
                "collapsed": true,
                "jupyter": {
                    "source_hidden": false,
                    "outputs_hidden": false
                },
                "nteract": {
                    "transient": {
                        "deleting": false
                    }
                },
                "microsoft": {
                    "language": "python"
                },
                "azdata_cell_guid": "e970415c-66be-48e1-a9cc-572a8f44a39d"
            },
            "outputs": [],
            "execution_count": null
        },
        {
            "cell_type": "code",
            "source": [
                "%%pyspark\r\n",
                "spark.sql(\"CREATE TABLE IF NOT EXISTS nyctaxifcst.hourlyroutedemand USING Parquet LOCATION '/user/routedemand'\")"
            ],
            "metadata": {
                "jupyter": {
                    "source_hidden": false,
                    "outputs_hidden": false
                },
                "nteract": {
                    "transient": {
                        "deleting": false
                    }
                },
                "microsoft": {
                    "language": "python"
                },
                "collapsed": true,
                "azdata_cell_guid": "07ebaa5e-c2ae-4752-80e5-9353a2663bea"
            },
            "outputs": [],
            "execution_count": null
        },
        {
            "cell_type": "code",
            "source": [
                "Select * from nyctaxifcst.hourlyroutedemand LIMIT 10"
            ],
            "metadata": {
                "jupyter": {
                    "source_hidden": false,
                    "outputs_hidden": false
                },
                "nteract": {
                    "transient": {
                        "deleting": false
                    }
                },
                "collapsed": false,
                "azdata_cell_guid": "ff93c04e-03da-4654-83b7-d9793107f167"
            },
            "outputs": [],
            "execution_count": null
        }
    ]
}