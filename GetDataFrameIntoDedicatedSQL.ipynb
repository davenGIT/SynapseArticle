{
  "cells": [
    {
      "cell_type": "code",
      "source": [
        "%%spark\n",
        "\n",
        "// As an example of getting your data frame into a dedicate SQL table\n",
        "// We're going to load a table into a data frame then save it to another\n",
        "val df = spark.read.sqlanalytics(\"taxideployment.dbo.FcstZoneDemand\") \n",
        "\n",
        "df.show(20)\n"
      ],
      "outputs": [
        {
          "output_type": "display_data",
          "data": {
            "application/vnd.livy.statement-meta+json": {
              "spark_pool": "sparkpool",
              "session_id": 17,
              "statement_id": 3,
              "state": "finished",
              "livy_statement_state": "available",
              "queued_time": "2021-06-23T20:56:12.1849541Z",
              "session_start_time": null,
              "execution_start_time": "2021-06-23T20:56:12.2848165Z",
              "execution_finish_time": "2021-06-23T20:56:18.4396487Z"
            },
            "text/plain": "StatementMeta(sparkpool, 17, 3, Finished, Available)"
          },
          "metadata": {}
        },
        {
          "output_type": "stream",
          "name": "stdout",
          "text": [
            "df: org.apache.spark.sql.DataFrame = [TripIndex: bigint, FcstYear: bigint ... 5 more fields]\n",
            "+---------+--------+---------+-------+--------+---------+------+\n",
            "|TripIndex|FcstYear|FcstMonth|FcstDay|FcstHour|DayOfWeek|Demand|\n",
            "+---------+--------+---------+-------+--------+---------+------+\n",
            "|  1163079|    2019|        7|      1|      13|        2|     1|\n",
            "|  1158231|    2019|        7|      1|      22|        2|     4|\n",
            "|  1138161|    2019|        7|      1|      10|        2|    47|\n",
            "|  1090157|    2019|        7|      1|      18|        2|     1|\n",
            "|  1236264|    2019|        7|      1|       6|        2|     1|\n",
            "|  1048074|    2019|        7|      1|       5|        2|     3|\n",
            "|  1161043|    2019|        7|      1|      16|        2|    13|\n",
            "|  1068234|    2019|        7|      1|      21|        2|    10|\n",
            "|  1216264|    2019|        7|      1|      21|        2|     1|\n",
            "|  1041239|    2019|        7|      1|      20|        2|     3|\n",
            "|  1132036|    2019|        7|      1|      14|        2|     4|\n",
            "|  1249163|    2019|        7|      1|      21|        2|     7|\n",
            "|  1164132|    2019|        7|      1|       9|        2|     3|\n",
            "|  1246161|    2019|        7|      1|       7|        2|     5|\n",
            "|  1239140|    2019|        7|      1|       7|        2|     8|\n",
            "|  1114249|    2019|        7|      1|      20|        2|     5|\n",
            "|  1151151|    2019|        7|      1|      17|        2|     8|\n",
            "|  1238243|    2019|        7|      1|       9|        2|     2|\n",
            "|  1125113|    2019|        7|      1|      20|        2|     1|\n",
            "|  1013186|    2019|        7|      1|      19|        2|     3|\n",
            "+---------+--------+---------+-------+--------+---------+------+\n",
            "only showing top 20 rows\n",
            "\n"
          ]
        }
      ],
      "execution_count": 3,
      "metadata": {
        "microsoft": {
          "language": "scala"
        }
      }
    },
    {
      "cell_type": "code",
      "source": [
        "%%spark\r\n",
        "\r\n",
        "// write to another table\r\n",
        "\r\n",
        "df.write.sqlanalytics(\"taxideployment.dbo.FcstZoneDemand_bak\", Constants.INTERNAL)"
      ],
      "outputs": [
        {
          "output_type": "display_data",
          "data": {
            "application/vnd.livy.statement-meta+json": {
              "spark_pool": "sparkpool",
              "session_id": 17,
              "statement_id": 5,
              "state": "finished",
              "livy_statement_state": "available",
              "queued_time": "2021-06-23T20:56:38.0720759Z",
              "session_start_time": null,
              "execution_start_time": "2021-06-23T20:56:38.1743622Z",
              "execution_finish_time": "2021-06-23T20:57:04.944325Z"
            },
            "text/plain": "StatementMeta(sparkpool, 17, 5, Finished, Available)"
          },
          "metadata": {}
        },
        {
          "output_type": "stream",
          "name": "stdout",
          "text": []
        }
      ],
      "execution_count": 5,
      "metadata": {
        "collapsed": true,
        "jupyter": {
          "source_hidden": false,
          "outputs_hidden": false
        },
        "nteract": {
          "transient": {
            "deleting": false
          }
        },
        "microsoft": {
          "language": "scala"
        }
      }
    },
    {
      "cell_type": "code",
      "source": [
        "%%spark\r\n",
        "\r\n",
        "// And prove it worked\r\n",
        "\r\n",
        "val df_bak = spark.read.sqlanalytics(\"taxideployment.dbo.FcstZoneDemand_bak\") \r\n",
        "\r\n",
        "df_bak.show(20)"
      ],
      "outputs": [
        {
          "output_type": "display_data",
          "data": {
            "application/vnd.livy.statement-meta+json": {
              "spark_pool": "sparkpool",
              "session_id": 17,
              "statement_id": 6,
              "state": "finished",
              "livy_statement_state": "available",
              "queued_time": "2021-06-23T20:58:39.8524877Z",
              "session_start_time": null,
              "execution_start_time": "2021-06-23T20:58:39.9426834Z",
              "execution_finish_time": "2021-06-23T20:58:46.0995723Z"
            },
            "text/plain": "StatementMeta(sparkpool, 17, 6, Finished, Available)"
          },
          "metadata": {}
        },
        {
          "output_type": "stream",
          "name": "stdout",
          "text": [
            "df_bak: org.apache.spark.sql.DataFrame = [TripIndex: bigint, FcstYear: bigint ... 5 more fields]\n",
            "+---------+--------+---------+-------+--------+---------+------+\n",
            "|TripIndex|FcstYear|FcstMonth|FcstDay|FcstHour|DayOfWeek|Demand|\n",
            "+---------+--------+---------+-------+--------+---------+------+\n",
            "|  1082088|    2019|        7|      1|       6|        2|     1|\n",
            "|  1261040|    2019|        7|      1|       8|        2|     1|\n",
            "|  1140213|    2019|        7|      1|      17|        2|     1|\n",
            "|  1140137|    2019|        7|      1|       7|        2|     5|\n",
            "|  1244230|    2019|        7|      1|      23|        2|     1|\n",
            "|  1162107|    2019|        7|      1|      12|        2|     9|\n",
            "|  1186138|    2019|        7|      1|       5|        2|     5|\n",
            "|  1162263|    2019|        7|      1|       6|        2|     1|\n",
            "|  1170229|    2019|        7|      1|       7|        2|     6|\n",
            "|  1079162|    2019|        7|      1|       5|        2|     1|\n",
            "|  1234107|    2019|        7|      1|      10|        2|     9|\n",
            "|  1100013|    2019|        7|      1|      23|        2|     2|\n",
            "|  1231166|    2019|        7|      1|       9|        2|     2|\n",
            "|  1209144|    2019|        7|      1|      21|        2|     1|\n",
            "|  1166243|    2019|        7|      1|       3|        2|     1|\n",
            "|  1138100|    2019|        7|      1|      18|        2|     8|\n",
            "|  1148186|    2019|        7|      1|       8|        2|     1|\n",
            "|  1125080|    2019|        7|      1|       2|        2|     2|\n",
            "|  1237158|    2019|        7|      1|      15|        2|     3|\n",
            "|  1249255|    2019|        7|      1|      16|        2|     1|\n",
            "+---------+--------+---------+-------+--------+---------+------+\n",
            "only showing top 20 rows\n",
            "\n"
          ]
        }
      ],
      "execution_count": 6,
      "metadata": {
        "collapsed": true,
        "jupyter": {
          "source_hidden": false,
          "outputs_hidden": false
        },
        "nteract": {
          "transient": {
            "deleting": false
          }
        },
        "microsoft": {
          "language": "scala"
        }
      }
    }
  ],
  "metadata": {
    "language_info": {
      "name": "scala"
    },
    "kernelspec": {
      "name": "synapse_spark",
      "language": "Scala",
      "display_name": "Synapse Spark"
    },
    "kernel_info": {
      "name": "synapse_spark"
    },
    "save_output": true,
    "synapse_widget": {
      "version": "0.1",
      "state": {}
    }
  },
  "nbformat": 4,
  "nbformat_minor": 2
}